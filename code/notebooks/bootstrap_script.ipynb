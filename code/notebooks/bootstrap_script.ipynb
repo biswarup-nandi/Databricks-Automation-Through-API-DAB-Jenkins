{
 "cells": [
  {
   "cell_type": "code",
   "execution_count": null,
   "metadata": {
    "application/vnd.databricks.v1+cell": {
     "cellMetadata": {},
     "inputWidgets": {},
     "nuid": "e3d82d73-cbab-45d7-a52c-9639de4e8df6",
     "showTitle": false,
     "title": ""
    }
   },
   "outputs": [],
   "source": [
    "%pip install requests\n",
    "\n",
    "dbutils.library.restartPython()"
   ]
  },
  {
   "cell_type": "code",
   "execution_count": null,
   "metadata": {
    "application/vnd.databricks.v1+cell": {
     "cellMetadata": {},
     "inputWidgets": {},
     "nuid": "1f4c2c23-183a-4cc6-8e00-15988e0a13b6",
     "showTitle": false,
     "title": ""
    }
   },
   "outputs": [],
   "source": [
    "%env DATABRICKS_CONFIG_PROFILE=admin_profile\n",
    "%env DATABRICKS_HOST=https://accounts.cloud.databricks.com\n",
    "%env DATABRICKS_ACCOUNT_ID=xxxxxxxxxxxxxxxxxxxxxxxxxx\n",
    "%env DATABRICKS_CLIENT_ID=xxxxxxxxxxxxxxxxxxxxxxxxxx\n",
    "%env DATABRICKS_CLIENT_SECRET=xxxxxxxxxxxxxxxxxxxxxxxxxxx\n",
    "%env DATABRICKS_AUTH_TYPE=oauth-m2m\n",
    "%env DATABRICKS_REGION=us-east-1"
   ]
  }
 ],
 "metadata": {
  "application/vnd.databricks.v1+notebook": {
   "dashboards": [],
   "environmentMetadata": null,
   "language": "python",
   "notebookMetadata": {
    "pythonIndentUnit": 4
   },
   "notebookName": "bootstrap_script",
   "widgets": {}
  },
  "language_info": {
   "name": "python"
  }
 },
 "nbformat": 4,
 "nbformat_minor": 0
}
