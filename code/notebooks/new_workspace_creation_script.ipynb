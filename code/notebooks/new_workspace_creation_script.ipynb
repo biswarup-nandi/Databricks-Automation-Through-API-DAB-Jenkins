{
 "cells": [
  {
   "cell_type": "code",
   "execution_count": null,
   "metadata": {
    "application/vnd.databricks.v1+cell": {
     "cellMetadata": {
      "byteLimit": 2048000,
      "rowLimit": 10000
     },
     "inputWidgets": {},
     "nuid": "2fced175-fcb0-4eba-97cf-8f20a1cddab0",
     "showTitle": false,
     "title": ""
    }
   },
   "outputs": [],
   "source": [
    "%run ./bootstrap_script"
   ]
  },
  {
   "cell_type": "code",
   "execution_count": null,
   "metadata": {
    "application/vnd.databricks.v1+cell": {
     "cellMetadata": {
      "byteLimit": 2048000,
      "rowLimit": 10000
     },
     "inputWidgets": {},
     "nuid": "a4ee4e5e-a4e3-42b5-aade-2223ab8031d5",
     "showTitle": false,
     "title": ""
    }
   },
   "outputs": [],
   "source": [
    "import os\n",
    "import requests\n",
    "import json\n",
    "from requests.auth import HTTPBasicAuth"
   ]
  },
  {
   "cell_type": "code",
   "execution_count": null,
   "metadata": {
    "application/vnd.databricks.v1+cell": {
     "cellMetadata": {
      "byteLimit": 2048000,
      "rowLimit": 10000
     },
     "inputWidgets": {},
     "nuid": "e15fc3de-31ae-4cc8-a176-773e80db619e",
     "showTitle": false,
     "title": ""
    }
   },
   "outputs": [],
   "source": [
    "# Parameter Configuration\n",
    "\n",
    "dbutils.widgets.text(\"Root_S3_Bucket_for_Workspace\", \"new-databricks-development-ws-bkt-767397898349\")\n",
    "dbutils.widgets.text(\"IAM_ARN_for_Cred_Config\", \"arn:aws:iam::767397898349:role/new-databricks-development-cred-config-iam-role\")\n",
    "dbutils.widgets.text(\"Workspace_Name\", \"new-databricks-development-ws-767397898349\")"
   ]
  },
  {
   "cell_type": "code",
   "execution_count": null,
   "metadata": {
    "application/vnd.databricks.v1+cell": {
     "cellMetadata": {
      "byteLimit": 2048000,
      "rowLimit": 10000
     },
     "inputWidgets": {},
     "nuid": "66ceb816-db9b-474c-893c-f9cebba7f1ad",
     "showTitle": false,
     "title": ""
    }
   },
   "outputs": [],
   "source": [
    "class DBX_UTILITY:\n",
    "    def __init__(self):\n",
    "        # Define the endpoint and credentials\n",
    "        self.token_base_url = f\"{os.getenv('DATABRICKS_HOST')}/oidc/accounts/{os.getenv('DATABRICKS_ACCOUNT_ID')}\"\n",
    "        self.base_url = f\"{os.getenv('DATABRICKS_HOST')}/api/2.0/accounts/{os.getenv('DATABRICKS_ACCOUNT_ID')}\"\n",
    "        self.client_id = f\"{os.getenv('DATABRICKS_CLIENT_ID')}\"\n",
    "        self.client_secret = f\"{os.getenv('DATABRICKS_CLIENT_SECRET')}\"\n",
    "        self.region = f\"{os.getenv('DATABRICKS_REGION')}\"\n",
    "        self.root_s3_bucket_for_workspace = dbutils.widgets.get(\"Root_S3_Bucket_for_Workspace\")\n",
    "        self.iam_arn_for_cred_config = dbutils.widgets.get(\"IAM_ARN_for_Cred_Config\")\n",
    "        self.workspace_name = dbutils.widgets.get(\"Workspace_Name\")\n",
    "\n",
    "    def refreshToken(self):\n",
    "        # Define the payload\n",
    "        data = {\n",
    "            'grant_type': 'client_credentials',\n",
    "            'scope': 'all-apis'\n",
    "        }\n",
    "\n",
    "        # Make the POST request\n",
    "        response = requests.post(f\"{self.token_base_url}/v1/token\", auth=HTTPBasicAuth(f\"{self.client_id}\", f\"{self.client_secret}\"), data=data)\n",
    "\n",
    "        if response.status_code == 200:\n",
    "            return response.json().get('access_token')\n",
    "        else:\n",
    "            response.raise_for_status()\n",
    "    \n",
    "    def getMetastoreId(self, bearer_token):\n",
    "        # Define the headers\n",
    "        headers = {\n",
    "            \"Authorization\": f\"Bearer {bearer_token}\",\n",
    "            \"Content-Type\": \"application/json\"\n",
    "        }\n",
    "\n",
    "        # Make the GET request\n",
    "        response = requests.get(f\"{self.base_url}/metastores\", headers=headers)\n",
    "\n",
    "        if response.status_code == 200:\n",
    "            metastore_arr = response.json().get('metastores')\n",
    "            return next((elem['metastore_id'] for elem in metastore_arr if elem['region'] == self.region), None)\n",
    "        else:\n",
    "            response.raise_for_status()\n",
    "    \n",
    "    def createStorageConfiguration(self, bearer_token):\n",
    "        # Define the headers\n",
    "        headers = {\n",
    "            \"Authorization\": f\"Bearer {bearer_token}\",\n",
    "            \"Content-Type\": \"application/json\"\n",
    "        }\n",
    "\n",
    "        # Define the payload\n",
    "        data = {\n",
    "            \"storage_configuration_name\": \"new_strg_cnfgrtn\",\n",
    "            \"root_bucket_info\": {\n",
    "                \"bucket_name\": f\"{self.root_s3_bucket_for_workspace}\"\n",
    "            }\n",
    "        }\n",
    "\n",
    "        # Make the POST request\n",
    "        response = requests.post(\n",
    "            f\"{self.base_url}/storage-configurations\",\n",
    "            headers=headers,\n",
    "            json=data\n",
    "        )\n",
    "\n",
    "        if response.status_code == 201:\n",
    "            return response.json().get('storage_configuration_id')\n",
    "        else:\n",
    "            print(\"Error response:\", response.text)\n",
    "            response.raise_for_status()\n",
    "    \n",
    "    def listStorageConfiguration(self, bearer_token):\n",
    "        # Define the headers\n",
    "        headers = {\n",
    "            \"Authorization\": f\"Bearer {bearer_token}\",\n",
    "            \"Content-Type\": \"application/json\"\n",
    "        }\n",
    "\n",
    "        # Make the GET request\n",
    "        response = requests.get(f\"{self.base_url}/storage-configurations\", headers=headers)\n",
    "        \n",
    "        strgCredList = [elem['storage_configuration_id'] for elem in response.json()]\n",
    "\n",
    "        if response.status_code == 200:\n",
    "            return strgCredList\n",
    "        else:\n",
    "            response.raise_for_status()\n",
    "\n",
    "    def deleteStorageConfiguration(self, bearer_token, strg_config_id):\n",
    "        # Define the headers\n",
    "        headers = {\n",
    "            \"Authorization\": f\"Bearer {bearer_token}\",\n",
    "            \"Content-Type\": \"application/json\"\n",
    "        }\n",
    "\n",
    "        # Make the GET request\n",
    "        response = requests.delete(f\"{self.base_url}/storage-configurations/{strg_config_id}\", headers=headers)\n",
    "        \n",
    "        # strgCredList = [elem['storage_configuration_id'] for elem in response.json()]\n",
    "\n",
    "        if response.status_code == 200:\n",
    "            return response.text\n",
    "        else:\n",
    "            response.raise_for_status()\n",
    "\n",
    "    def createCredentialConfiguration(self, bearer_token):\n",
    "        # Define the headers\n",
    "        headers = {\n",
    "            \"Authorization\": f\"Bearer {bearer_token}\",\n",
    "            \"Content-Type\": \"application/json\"\n",
    "        }\n",
    "\n",
    "        # Define the payload\n",
    "        data = {\n",
    "            \"credentials_name\": \"new_cred_config\",\n",
    "            \"aws_credentials\": {\n",
    "                \"sts_role\": {\n",
    "                    \"role_arn\": f\"{self.iam_arn_for_cred_config}\"\n",
    "                }\n",
    "            }\n",
    "        }\n",
    "\n",
    "        # Make the POST request\n",
    "        response = requests.post(\n",
    "            f\"{self.base_url}/credentials\",\n",
    "            headers=headers,\n",
    "            json=data\n",
    "        )\n",
    "\n",
    "        if response.status_code == 201:\n",
    "            return response.json().get('credentials_id')\n",
    "        else:\n",
    "            print(\"Error response:\", response.text)\n",
    "            response.raise_for_status()\n",
    "\n",
    "    def createWorkspace(self, bearer_token, cred_id, strg_config_id):\n",
    "        # Define the headers\n",
    "        headers = {\n",
    "            \"Authorization\": f\"Bearer {bearer_token}\",\n",
    "            \"Content-Type\": \"application/json\"\n",
    "        }\n",
    "\n",
    "        # Define the payload\n",
    "        data = {\n",
    "            \"workspace_name\": f\"{self.workspace_name}\",\n",
    "            \"aws_region\": f\"{self.region}\",\n",
    "            \"credentials_id\": f\"{cred_id}\",\n",
    "            \"storage_configuration_id\": f\"{strg_config_id}\",\n",
    "            \"pricing_tier\": \"PREMIUM\"\n",
    "        }\n",
    "\n",
    "        # Make the POST request\n",
    "        response = requests.post(\n",
    "            f\"{self.base_url}/workspaces\",\n",
    "            headers=headers,\n",
    "            json=data\n",
    "        )\n",
    "\n",
    "        if response.status_code == 201:\n",
    "            return response.json().get('workspace_id')\n",
    "        else:\n",
    "            print(\"Error response:\", response.text)\n",
    "            response.raise_for_status()\n",
    "\n",
    "utility = DBX_UTILITY()"
   ]
  },
  {
   "cell_type": "code",
   "execution_count": null,
   "metadata": {
    "application/vnd.databricks.v1+cell": {
     "cellMetadata": {
      "byteLimit": 2048000,
      "rowLimit": 10000
     },
     "inputWidgets": {},
     "nuid": "3fca733d-0365-41d7-9c75-3c7a5041fd52",
     "showTitle": false,
     "title": ""
    }
   },
   "outputs": [],
   "source": [
    "# Bearer Token Creation\n",
    "token = utility.refreshToken()"
   ]
  },
  {
   "cell_type": "code",
   "execution_count": null,
   "metadata": {
    "application/vnd.databricks.v1+cell": {
     "cellMetadata": {
      "byteLimit": 2048000,
      "rowLimit": 10000
     },
     "inputWidgets": {},
     "nuid": "ebcd5ba4-f0b8-4151-af24-7a1939ee2768",
     "showTitle": false,
     "title": ""
    }
   },
   "outputs": [],
   "source": [
    "# Get Metastore ID\n",
    "# if token:\n",
    "#     metastore_id = utility.getMetastoreId(token)"
   ]
  },
  {
   "cell_type": "code",
   "execution_count": null,
   "metadata": {
    "application/vnd.databricks.v1+cell": {
     "cellMetadata": {
      "byteLimit": 2048000,
      "rowLimit": 10000
     },
     "inputWidgets": {},
     "nuid": "64fcfca7-abac-4a7b-a008-801d87305b35",
     "showTitle": false,
     "title": ""
    }
   },
   "outputs": [],
   "source": [
    "# Delete All Storage Credentials\n",
    "# if token:\n",
    "#     strConfigList = utility.listStorageConfiguration(token)\n",
    "#     if strConfigList:\n",
    "#         for strgCred in strConfigList:\n",
    "#             try:\n",
    "#                 print(\"Deleted: \" + str(utility.deleteStorageConfiguration(token, strgCred)))\n",
    "#             except:\n",
    "#                 print(\"Error: \" + str(strgCred))"
   ]
  },
  {
   "cell_type": "code",
   "execution_count": null,
   "metadata": {
    "application/vnd.databricks.v1+cell": {
     "cellMetadata": {
      "byteLimit": 2048000,
      "rowLimit": 10000
     },
     "inputWidgets": {},
     "nuid": "c22c5435-f405-4672-bac9-5489b8522bc9",
     "showTitle": false,
     "title": ""
    }
   },
   "outputs": [],
   "source": [
    "# Storage Config Creation\n",
    "if token:\n",
    "    storage_config_id = utility.createStorageConfiguration(token)\n",
    "    print(storage_config_id)"
   ]
  },
  {
   "cell_type": "code",
   "execution_count": null,
   "metadata": {
    "application/vnd.databricks.v1+cell": {
     "cellMetadata": {
      "byteLimit": 2048000,
      "rowLimit": 10000
     },
     "inputWidgets": {},
     "nuid": "55dacb4d-3fb6-4571-9d80-a1dd1b1722a6",
     "showTitle": false,
     "title": ""
    }
   },
   "outputs": [],
   "source": [
    "# Cred Config Creation\n",
    "if token:\n",
    "    cred_config_id = utility.createCredentialConfiguration(token)\n",
    "    print(cred_config_id)"
   ]
  },
  {
   "cell_type": "code",
   "execution_count": null,
   "metadata": {
    "application/vnd.databricks.v1+cell": {
     "cellMetadata": {
      "byteLimit": 2048000,
      "rowLimit": 10000
     },
     "inputWidgets": {},
     "nuid": "33a114c5-ab35-4aba-81eb-6f11c080a78e",
     "showTitle": false,
     "title": ""
    }
   },
   "outputs": [],
   "source": [
    "# Worspace Creation\n",
    "if token and cred_config_id and storage_config_id:\n",
    "    workspace_id = utility.createWorkspace(token, cred_config_id, storage_config_id)"
   ]
  },
  {
   "cell_type": "code",
   "execution_count": null,
   "metadata": {
    "application/vnd.databricks.v1+cell": {
     "cellMetadata": {
      "byteLimit": 2048000,
      "rowLimit": 10000
     },
     "inputWidgets": {},
     "nuid": "63d8b96d-c77a-4aed-ac18-d86c123a8bf0",
     "showTitle": false,
     "title": ""
    }
   },
   "outputs": [],
   "source": [
    "print(workspace_id)"
   ]
  },
  {
   "cell_type": "code",
   "execution_count": null,
   "metadata": {
    "application/vnd.databricks.v1+cell": {
     "cellMetadata": {},
     "inputWidgets": {},
     "nuid": "6b3b4cf1-b637-4314-9c15-ddc1d635237a",
     "showTitle": false,
     "title": ""
    }
   },
   "outputs": [],
   "source": []
  }
 ],
 "metadata": {
  "application/vnd.databricks.v1+notebook": {
   "dashboards": [],
   "environmentMetadata": null,
   "language": "python",
   "notebookMetadata": {
    "pythonIndentUnit": 4
   },
   "notebookName": "new_workspace_creation_script",
   "widgets": {
    "IAM_ARN_for_Cred_Config": {
     "currentValue": "arn:aws:iam::767397898349:role/new-databricks-development-cred-config-iam-role",
     "nuid": "019a9220-0fec-401f-96f2-1ccbc22a5bdd",
     "typedWidgetInfo": null,
     "widgetInfo": {
      "defaultValue": "arn:aws:iam::767397898349:role/new-databricks-development-cred-config-iam-role",
      "label": null,
      "name": "IAM_ARN_for_Cred_Config",
      "options": {
       "autoCreated": null,
       "validationRegex": null,
       "widgetType": "text"
      },
      "widgetType": "text"
     }
    },
    "Root_S3_Bucket_for_Workspace": {
     "currentValue": "new-databricks-development-ws-bkt-767397898349",
     "nuid": "ff3a4b93-c61c-424c-b01b-4466eb9ee596",
     "typedWidgetInfo": null,
     "widgetInfo": {
      "defaultValue": "new-databricks-development-ws-bkt-767397898349",
      "label": null,
      "name": "Root_S3_Bucket_for_Workspace",
      "options": {
       "autoCreated": null,
       "validationRegex": null,
       "widgetType": "text"
      },
      "widgetType": "text"
     }
    },
    "Workspace_Name": {
     "currentValue": "new-databricks-development-ws-767397898349",
     "nuid": "059d3c86-bf9c-4374-9074-6329de5be0e7",
     "typedWidgetInfo": null,
     "widgetInfo": {
      "defaultValue": "new-databricks-development-ws-767397898349",
      "label": null,
      "name": "Workspace_Name",
      "options": {
       "autoCreated": null,
       "validationRegex": null,
       "widgetType": "text"
      },
      "widgetType": "text"
     }
    }
   }
  },
  "language_info": {
   "name": "python"
  }
 },
 "nbformat": 4,
 "nbformat_minor": 0
}
