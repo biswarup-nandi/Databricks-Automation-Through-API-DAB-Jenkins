{
 "cells": [
  {
   "cell_type": "code",
   "execution_count": 0,
   "metadata": {
    "application/vnd.databricks.v1+cell": {
     "cellMetadata": {
      "byteLimit": 2048000,
      "rowLimit": 10000
     },
     "inputWidgets": {},
     "nuid": "e34f42d4-e4e6-41e2-8de0-3dec1bad8edd",
     "showTitle": false,
     "title": ""
    }
   },
   "outputs": [
    {
     "output_type": "stream",
     "name": "stdout",
     "output_type": "stream",
     "text": [
      "\u001B[43mNote: you may need to restart the kernel using dbutils.library.restartPython() to use updated packages.\u001B[0m\nRequirement already satisfied: requests in /databricks/python3/lib/python3.10/site-packages (2.28.1)\nRequirement already satisfied: charset-normalizer<3,>=2 in /databricks/python3/lib/python3.10/site-packages (from requests) (2.0.4)\nRequirement already satisfied: idna<4,>=2.5 in /databricks/python3/lib/python3.10/site-packages (from requests) (3.4)\nRequirement already satisfied: urllib3<1.27,>=1.21.1 in /databricks/python3/lib/python3.10/site-packages (from requests) (1.26.14)\nRequirement already satisfied: certifi>=2017.4.17 in /databricks/python3/lib/python3.10/site-packages (from requests) (2022.12.7)\n\u001B[43mNote: you may need to restart the kernel using dbutils.library.restartPython() to use updated packages.\u001B[0m\n"
     ]
    },
    {
     "output_type": "stream",
     "name": "stdout",
     "output_type": "stream",
     "text": [
      "env: DATABRICKS_CONFIG_PROFILE=admin_profile\nenv: DATABRICKS_HOST=https://accounts.cloud.databricks.com\nenv: DATABRICKS_WORKSPACE_HOST=https://dbc-5154bde0-9094.cloud.databricks.com\nenv: DATABRICKS_ACCOUNT_ID=01352882-003b-4f43-bb86-f8f7700069ce\nenv: DATABRICKS_CLIENT_ID=d46cd08f-cbea-4b56-81b9-e2e36ed96e37\nenv: DATABRICKS_CLIENT_SECRET=dosecc10ecd529d77705e5c686e6c705aa65\nenv: DATABRICKS_AUTH_TYPE=oauth-m2m\nenv: DATABRICKS_REGION=us-east-1\n"
     ]
    }
   ],
   "source": [
    "%run ./bootstrap_script"
   ]
  },
  {
   "cell_type": "code",
   "execution_count": 0,
   "metadata": {
    "application/vnd.databricks.v1+cell": {
     "cellMetadata": {
      "byteLimit": 2048000,
      "rowLimit": 10000
     },
     "inputWidgets": {},
     "nuid": "352bbc9d-3ce3-4526-8439-ba8c5d94130b",
     "showTitle": false,
     "title": ""
    }
   },
   "outputs": [],
   "source": [
    "import os\n",
    "import requests\n",
    "import json\n",
    "from requests.auth import HTTPBasicAuth"
   ]
  },
  {
   "cell_type": "code",
   "execution_count": 0,
   "metadata": {
    "application/vnd.databricks.v1+cell": {
     "cellMetadata": {
      "byteLimit": 2048000,
      "rowLimit": 10000
     },
     "inputWidgets": {},
     "nuid": "ba422fa8-3f40-44f3-b6d1-758099138d22",
     "showTitle": false,
     "title": ""
    }
   },
   "outputs": [],
   "source": [
    "class DBX_UTILITY:\n",
    "    def __init__(self):\n",
    "        # Define the endpoint and credentials\n",
    "        self.token_base_url = f\"{os.getenv('DATABRICKS_WORKSPACE_HOST')}/oidc\"\n",
    "        self.base_url = f\"{os.getenv('DATABRICKS_WORKSPACE_HOST')}/api\"\n",
    "        self.client_id = f\"{os.getenv('DATABRICKS_CLIENT_ID')}\"\n",
    "        self.client_secret = f\"{os.getenv('DATABRICKS_CLIENT_SECRET')}\"\n",
    "        self.region = f\"{os.getenv('DATABRICKS_REGION')}\"\n",
    "        \n",
    "    def refreshToken(self):\n",
    "        # Define the payload\n",
    "        data = {\n",
    "            'grant_type': 'client_credentials',\n",
    "            'scope': 'all-apis'\n",
    "        }\n",
    "\n",
    "        # Make the POST request\n",
    "        response = requests.post(f\"{self.token_base_url}/v1/token\", auth=HTTPBasicAuth(f\"{self.client_id}\", f\"{self.client_secret}\"), data=data)\n",
    "\n",
    "        if response.status_code == 200:\n",
    "            return response.json().get('access_token')\n",
    "        else:\n",
    "            response.raise_for_status()\n",
    "    \n",
    "    def getClusterList(self, bearer_token):\n",
    "        # Define the headers\n",
    "        headers = {\n",
    "            \"Authorization\": f\"Bearer {bearer_token}\",\n",
    "            \"Content-Type\": \"application/json\"\n",
    "        }\n",
    "\n",
    "        # Make the GET request\n",
    "        response = requests.get(f\"{self.base_url}/2.0/clusters/list\", headers=headers)\n",
    "\n",
    "        if response.status_code == 200:\n",
    "            return response.text\n",
    "        else:\n",
    "            response.raise_for_status()\n",
    "            \n",
    "utility = DBX_UTILITY()"
   ]
  },
  {
   "cell_type": "code",
   "execution_count": 0,
   "metadata": {
    "application/vnd.databricks.v1+cell": {
     "cellMetadata": {
      "byteLimit": 2048000,
      "rowLimit": 10000
     },
     "inputWidgets": {},
     "nuid": "f68ffaf9-a27e-4fa9-a4e1-c37228d0e9fa",
     "showTitle": false,
     "title": ""
    }
   },
   "outputs": [],
   "source": [
    "# Bearer Token Creation\n",
    "token = utility.refreshToken()"
   ]
  },
  {
   "cell_type": "code",
   "execution_count": 0,
   "metadata": {
    "application/vnd.databricks.v1+cell": {
     "cellMetadata": {
      "byteLimit": 2048000,
      "rowLimit": 10000
     },
     "inputWidgets": {},
     "nuid": "463a1ca8-19a6-4a02-8f65-f1bfe76a3211",
     "showTitle": false,
     "title": ""
    }
   },
   "outputs": [
    {
     "output_type": "stream",
     "name": "stdout",
     "output_type": "stream",
     "text": [
      "{\"clusters\":[{\"cluster_id\":\"0520-065855-uxtgixwr\",\"creator_user_name\":\"biswarup.nandi@outlook.com\",\"driver\":{\"private_ip\":\"10.34.219.46\",\"node_id\":\"aeed9c41c0834f7b90975d26476dfc08\",\"instance_id\":\"i-01aebbd5ac4d99ac8\",\"start_timestamp\":1716429174378,\"node_aws_attributes\":{\"is_spot\":false},\"node_attributes\":{\"is_spot\":false},\"host_private_ip\":\"10.34.194.48\"},\"executors\":[{\"private_ip\":\"10.34.218.85\",\"node_id\":\"56e5e4675c234e5fbac85d8abb339f0d\",\"instance_id\":\"i-0c975bc6776edf5c9\",\"start_timestamp\":1716429174257,\"node_aws_attributes\":{\"is_spot\":false},\"node_attributes\":{\"is_spot\":false},\"host_private_ip\":\"10.34.215.23\"},{\"private_ip\":\"10.34.217.255\",\"node_id\":\"e351b174ace048d289c0050d7fc4e880\",\"instance_id\":\"i-0d8f4f7cc116f0c1c\",\"start_timestamp\":1716429174320,\"node_aws_attributes\":{\"is_spot\":false},\"node_attributes\":{\"is_spot\":false},\"host_private_ip\":\"10.34.214.243\"}],\"spark_context_id\":5534921375533713340,\"driver_healthy\":true,\"jdbc_port\":10000,\"cluster_name\":\"Biswarup Nandi's Shared Compute Cluster\",\"spark_version\":\"14.3.x-scala2.12\",\"aws_attributes\":{\"first_on_demand\":100001,\"availability\":\"SPOT_WITH_FALLBACK\",\"zone_id\":\"auto\",\"spot_bid_price_percent\":100},\"node_type_id\":\"i3.xlarge\",\"driver_node_type_id\":\"i3.xlarge\",\"autotermination_minutes\":0,\"enable_elastic_disk\":true,\"disk_spec\":{},\"cluster_source\":\"UI\",\"policy_id\":\"0000FCE9C52BA152\",\"enable_local_disk_encryption\":false,\"instance_source\":{\"node_type_id\":\"i3.xlarge\"},\"driver_instance_source\":{\"node_type_id\":\"i3.xlarge\"},\"data_security_mode\":\"USER_ISOLATION\",\"runtime_engine\":\"STANDARD\",\"effective_spark_version\":\"14.3.x-scala2.12\",\"state\":\"RUNNING\",\"state_message\":\"\",\"start_time\":1716188335375,\"last_state_loss_time\":1716429329195,\"last_activity_time\":1716429250104,\"last_restarted_time\":1716429329332,\"autoscale\":{\"min_workers\":2,\"max_workers\":10,\"target_workers\":2},\"cluster_memory_mb\":93696,\"cluster_cores\":12.0,\"default_tags\":{\"Vendor\":\"Databricks\",\"Creator\":\"biswarup.nandi@outlook.com\",\"ClusterName\":\"Biswarup Nandi's Shared Compute Cluster\",\"ClusterId\":\"0520-065855-uxtgixwr\"},\"init_scripts_safe_mode\":false},{\"cluster_id\":\"0516-173756-glr90vnx\",\"creator_user_name\":\"d46cd08f-cbea-4b56-81b9-e2e36ed96e37\",\"spark_context_id\":9172613140808926389,\"driver_healthy\":true,\"cluster_name\":\"job-309207456061125-run-285138356174318-job_cluster\",\"spark_version\":\"13.3.x-scala2.12\",\"aws_attributes\":{\"first_on_demand\":0,\"availability\":\"SPOT_WITH_FALLBACK\",\"zone_id\":\"us-east-1a\",\"spot_bid_price_percent\":100},\"node_type_id\":\"i3.xlarge\",\"driver_node_type_id\":\"i3.xlarge\",\"custom_tags\":{\"dev\":\"d46cd08f_cbea_4b56_81b9_e2e36ed96e37\"},\"autotermination_minutes\":0,\"enable_elastic_disk\":false,\"disk_spec\":{},\"cluster_source\":\"JOB\",\"single_user_name\":\"d46cd08f-cbea-4b56-81b9-e2e36ed96e37\",\"enable_local_disk_encryption\":false,\"instance_source\":{\"node_type_id\":\"i3.xlarge\"},\"driver_instance_source\":{\"node_type_id\":\"i3.xlarge\"},\"data_security_mode\":\"SINGLE_USER\",\"effective_spark_version\":\"13.3.x-scala2.12\",\"state\":\"TERMINATED\",\"state_message\":\"Finding instances for new nodes, acquiring more instances if necessary\",\"start_time\":1715881076879,\"terminated_time\":1715881594712,\"last_state_loss_time\":0,\"last_activity_time\":1715881418522,\"last_restarted_time\":1715881377026,\"autoscale\":{\"min_workers\":1,\"max_workers\":2,\"target_workers\":2},\"default_tags\":{\"Vendor\":\"Databricks\",\"Creator\":\"d46cd08f-cbea-4b56-81b9-e2e36ed96e37\",\"ClusterName\":\"job-309207456061125-run-285138356174318-job_cluster\",\"ClusterId\":\"0516-173756-glr90vnx\",\"JobId\":\"309207456061125\",\"RunName\":\"dev d46cd08f_cbea_4b56_81b9_e2e36ed96e37 dab_e2e_job\"},\"termination_reason\":{\"code\":\"JOB_FINISHED\",\"type\":\"SUCCESS\"},\"init_scripts_safe_mode\":false},{\"cluster_id\":\"0516-164408-hvii7i0p\",\"creator_user_name\":\"d46cd08f-cbea-4b56-81b9-e2e36ed96e37\",\"spark_context_id\":2201842100919760689,\"driver_healthy\":true,\"cluster_name\":\"job-309207456061125-run-531005056561430-job_cluster\",\"spark_version\":\"13.3.x-scala2.12\",\"aws_attributes\":{\"first_on_demand\":0,\"availability\":\"SPOT_WITH_FALLBACK\",\"zone_id\":\"us-east-1a\",\"spot_bid_price_percent\":100},\"node_type_id\":\"i3.xlarge\",\"driver_node_type_id\":\"i3.xlarge\",\"custom_tags\":{\"dev\":\"d46cd08f_cbea_4b56_81b9_e2e36ed96e37\"},\"autotermination_minutes\":0,\"enable_elastic_disk\":false,\"disk_spec\":{},\"cluster_source\":\"JOB\",\"single_user_name\":\"d46cd08f-cbea-4b56-81b9-e2e36ed96e37\",\"enable_local_disk_encryption\":false,\"instance_source\":{\"node_type_id\":\"i3.xlarge\"},\"driver_instance_source\":{\"node_type_id\":\"i3.xlarge\"},\"data_security_mode\":\"SINGLE_USER\",\"effective_spark_version\":\"13.3.x-scala2.12\",\"state\":\"TERMINATED\",\"state_message\":\"Finding instances for new nodes, acquiring more instances if necessary\",\"start_time\":1715877848290,\"terminated_time\":1715878239292,\"last_state_loss_time\":0,\"last_activity_time\":1715878177429,\"last_restarted_time\":1715878124750,\"autoscale\":{\"min_workers\":1,\"max_workers\":2,\"target_workers\":2},\"default_tags\":{\"Vendor\":\"Databricks\",\"Creator\":\"d46cd08f-cbea-4b56-81b9-e2e36ed96e37\",\"ClusterName\":\"job-309207456061125-run-531005056561430-job_cluster\",\"ClusterId\":\"0516-164408-hvii7i0p\",\"JobId\":\"309207456061125\",\"RunName\":\"dev d46cd08f_cbea_4b56_81b9_e2e36ed96e37 dab_e2e_job\"},\"termination_reason\":{\"code\":\"JOB_FINISHED\",\"type\":\"SUCCESS\"},\"init_scripts_safe_mode\":false},{\"cluster_id\":\"0519-042420-botsj0pg\",\"creator_user_name\":\"d46cd08f-cbea-4b56-81b9-e2e36ed96e37\",\"spark_context_id\":666385585798248868,\"driver_healthy\":true,\"cluster_name\":\"job-309207456061125-run-599611969518890-job_cluster\",\"spark_version\":\"13.3.x-scala2.12\",\"aws_attributes\":{\"first_on_demand\":0,\"availability\":\"SPOT_WITH_FALLBACK\",\"zone_id\":\"us-east-1a\",\"spot_bid_price_percent\":100},\"node_type_id\":\"i3.xlarge\",\"driver_node_type_id\":\"i3.xlarge\",\"custom_tags\":{\"dev\":\"d46cd08f_cbea_4b56_81b9_e2e36ed96e37\"},\"autotermination_minutes\":0,\"enable_elastic_disk\":false,\"disk_spec\":{},\"cluster_source\":\"JOB\",\"single_user_name\":\"d46cd08f-cbea-4b56-81b9-e2e36ed96e37\",\"enable_local_disk_encryption\":false,\"instance_source\":{\"node_type_id\":\"i3.xlarge\"},\"driver_instance_source\":{\"node_type_id\":\"i3.xlarge\"},\"data_security_mode\":\"SINGLE_USER\",\"effective_spark_version\":\"13.3.x-scala2.12\",\"state\":\"TERMINATED\",\"state_message\":\"Finding instances for new nodes, acquiring more instances if necessary\",\"start_time\":1716092660969,\"terminated_time\":1716093014479,\"last_state_loss_time\":0,\"last_activity_time\":1716092975481,\"last_restarted_time\":1716092933448,\"autoscale\":{\"min_workers\":1,\"max_workers\":2,\"target_workers\":2},\"default_tags\":{\"Vendor\":\"Databricks\",\"Creator\":\"d46cd08f-cbea-4b56-81b9-e2e36ed96e37\",\"ClusterName\":\"job-309207456061125-run-599611969518890-job_cluster\",\"ClusterId\":\"0519-042420-botsj0pg\",\"JobId\":\"309207456061125\",\"RunName\":\"dev d46cd08f_cbea_4b56_81b9_e2e36ed96e37 dab_e2e_job\"},\"termination_reason\":{\"code\":\"JOB_FINISHED\",\"type\":\"SUCCESS\"},\"init_scripts_safe_mode\":false},{\"cluster_id\":\"0516-155955-73a9fwtf\",\"creator_user_name\":\"d46cd08f-cbea-4b56-81b9-e2e36ed96e37\",\"spark_context_id\":2288105869180347,\"driver_healthy\":true,\"cluster_name\":\"job-309207456061125-run-615602015019546-job_cluster\",\"spark_version\":\"13.3.x-scala2.12\",\"aws_attributes\":{\"first_on_demand\":0,\"availability\":\"SPOT_WITH_FALLBACK\",\"zone_id\":\"us-east-1a\",\"spot_bid_price_percent\":100},\"node_type_id\":\"i3.xlarge\",\"driver_node_type_id\":\"i3.xlarge\",\"custom_tags\":{\"dev\":\"d46cd08f_cbea_4b56_81b9_e2e36ed96e37\"},\"autotermination_minutes\":0,\"enable_elastic_disk\":false,\"disk_spec\":{},\"cluster_source\":\"JOB\",\"single_user_name\":\"d46cd08f-cbea-4b56-81b9-e2e36ed96e37\",\"enable_local_disk_encryption\":false,\"instance_source\":{\"node_type_id\":\"i3.xlarge\"},\"driver_instance_source\":{\"node_type_id\":\"i3.xlarge\"},\"data_security_mode\":\"SINGLE_USER\",\"effective_spark_version\":\"13.3.x-scala2.12\",\"state\":\"TERMINATED\",\"state_message\":\"Finding instances for new nodes, acquiring more instances if necessary\",\"start_time\":1715875195341,\"terminated_time\":1715875633436,\"last_state_loss_time\":0,\"last_activity_time\":1715875520455,\"last_restarted_time\":1715875492153,\"autoscale\":{\"min_workers\":1,\"max_workers\":2,\"target_workers\":2},\"default_tags\":{\"Vendor\":\"Databricks\",\"Creator\":\"d46cd08f-cbea-4b56-81b9-e2e36ed96e37\",\"ClusterName\":\"job-309207456061125-run-615602015019546-job_cluster\",\"ClusterId\":\"0516-155955-73a9fwtf\",\"JobId\":\"309207456061125\",\"RunName\":\"dev d46cd08f_cbea_4b56_81b9_e2e36ed96e37 dab_e2e_job\"},\"termination_reason\":{\"code\":\"JOB_FINISHED\",\"type\":\"SUCCESS\"},\"init_scripts_safe_mode\":false},{\"cluster_id\":\"0515-190503-yi4lj8zu\",\"creator_user_name\":\"d46cd08f-cbea-4b56-81b9-e2e36ed96e37\",\"spark_context_id\":7504051915910199934,\"driver_healthy\":true,\"cluster_name\":\"job-309207456061125-run-724602266934804-job_cluster\",\"spark_version\":\"13.3.x-scala2.12\",\"aws_attributes\":{\"first_on_demand\":0,\"availability\":\"SPOT_WITH_FALLBACK\",\"zone_id\":\"us-east-1a\",\"spot_bid_price_percent\":100},\"node_type_id\":\"i3.xlarge\",\"driver_node_type_id\":\"i3.xlarge\",\"custom_tags\":{\"dev\":\"d46cd08f_cbea_4b56_81b9_e2e36ed96e37\"},\"autotermination_minutes\":0,\"enable_elastic_disk\":false,\"disk_spec\":{},\"cluster_source\":\"JOB\",\"single_user_name\":\"d46cd08f-cbea-4b56-81b9-e2e36ed96e37\",\"enable_local_disk_encryption\":false,\"instance_source\":{\"node_type_id\":\"i3.xlarge\"},\"driver_instance_source\":{\"node_type_id\":\"i3.xlarge\"},\"data_security_mode\":\"SINGLE_USER\",\"effective_spark_version\":\"13.3.x-scala2.12\",\"state\":\"TERMINATED\",\"state_message\":\"\",\"start_time\":1715799903557,\"terminated_time\":1715800316503,\"last_state_loss_time\":0,\"last_activity_time\":1715800241292,\"last_restarted_time\":1715800187866,\"autoscale\":{\"min_workers\":1,\"max_workers\":2,\"target_workers\":1},\"default_tags\":{\"Vendor\":\"Databricks\",\"Creator\":\"d46cd08f-cbea-4b56-81b9-e2e36ed96e37\",\"ClusterName\":\"job-309207456061125-run-724602266934804-job_cluster\",\"ClusterId\":\"0515-190503-yi4lj8zu\",\"JobId\":\"309207456061125\",\"RunName\":\"dev d46cd08f_cbea_4b56_81b9_e2e36ed96e37 dab_e2e_job\"},\"termination_reason\":{\"code\":\"JOB_FINISHED\",\"type\":\"SUCCESS\"},\"init_scripts_safe_mode\":false},{\"cluster_id\":\"0516-162106-wqtg0o5u\",\"creator_user_name\":\"d46cd08f-cbea-4b56-81b9-e2e36ed96e37\",\"spark_context_id\":8617509623010011050,\"driver_healthy\":true,\"cluster_name\":\"job-309207456061125-run-801158741684938-job_cluster\",\"spark_version\":\"13.3.x-scala2.12\",\"aws_attributes\":{\"first_on_demand\":0,\"availability\":\"SPOT_WITH_FALLBACK\",\"zone_id\":\"us-east-1a\",\"spot_bid_price_percent\":100},\"node_type_id\":\"i3.xlarge\",\"driver_node_type_id\":\"i3.xlarge\",\"custom_tags\":{\"dev\":\"d46cd08f_cbea_4b56_81b9_e2e36ed96e37\"},\"autotermination_minutes\":0,\"enable_elastic_disk\":false,\"disk_spec\":{},\"cluster_source\":\"JOB\",\"single_user_name\":\"d46cd08f-cbea-4b56-81b9-e2e36ed96e37\",\"enable_local_disk_encryption\":false,\"instance_source\":{\"node_type_id\":\"i3.xlarge\"},\"driver_instance_source\":{\"node_type_id\":\"i3.xlarge\"},\"data_security_mode\":\"SINGLE_USER\",\"effective_spark_version\":\"13.3.x-scala2.12\",\"state\":\"TERMINATED\",\"state_message\":\"Finding instances for new nodes, acquiring more instances if necessary\",\"start_time\":1715876467016,\"terminated_time\":1715876835130,\"last_state_loss_time\":0,\"last_activity_time\":1715876798494,\"last_restarted_time\":1715876719607,\"autoscale\":{\"min_workers\":1,\"max_workers\":2,\"target_workers\":2},\"default_tags\":{\"Vendor\":\"Databricks\",\"Creator\":\"d46cd08f-cbea-4b56-81b9-e2e36ed96e37\",\"ClusterName\":\"job-309207456061125-run-801158741684938-job_cluster\",\"ClusterId\":\"0516-162106-wqtg0o5u\",\"JobId\":\"309207456061125\",\"RunName\":\"dev d46cd08f_cbea_4b56_81b9_e2e36ed96e37 dab_e2e_job\"},\"termination_reason\":{\"code\":\"JOB_FINISHED\",\"type\":\"SUCCESS\"},\"init_scripts_safe_mode\":false},{\"cluster_id\":\"0517-085433-i1c1klyb\",\"creator_user_name\":\"d46cd08f-cbea-4b56-81b9-e2e36ed96e37\",\"spark_context_id\":5815686070277613137,\"driver_healthy\":true,\"cluster_name\":\"job-309207456061125-run-955581243167415-job_cluster\",\"spark_version\":\"13.3.x-scala2.12\",\"aws_attributes\":{\"first_on_demand\":0,\"availability\":\"SPOT_WITH_FALLBACK\",\"zone_id\":\"us-east-1a\",\"spot_bid_price_percent\":100},\"node_type_id\":\"i3.xlarge\",\"driver_node_type_id\":\"i3.xlarge\",\"custom_tags\":{\"dev\":\"d46cd08f_cbea_4b56_81b9_e2e36ed96e37\"},\"autotermination_minutes\":0,\"enable_elastic_disk\":false,\"disk_spec\":{},\"cluster_source\":\"JOB\",\"single_user_name\":\"d46cd08f-cbea-4b56-81b9-e2e36ed96e37\",\"enable_local_disk_encryption\":false,\"instance_source\":{\"node_type_id\":\"i3.xlarge\"},\"driver_instance_source\":{\"node_type_id\":\"i3.xlarge\"},\"data_security_mode\":\"SINGLE_USER\",\"effective_spark_version\":\"13.3.x-scala2.12\",\"state\":\"TERMINATED\",\"state_message\":\"Finding instances for new nodes, acquiring more instances if necessary\",\"start_time\":1715936073804,\"terminated_time\":1715936449008,\"last_state_loss_time\":0,\"last_activity_time\":1715936431332,\"last_restarted_time\":1715936364073,\"autoscale\":{\"min_workers\":1,\"max_workers\":2,\"target_workers\":2},\"default_tags\":{\"Vendor\":\"Databricks\",\"Creator\":\"d46cd08f-cbea-4b56-81b9-e2e36ed96e37\",\"ClusterName\":\"job-309207456061125-run-955581243167415-job_cluster\",\"ClusterId\":\"0517-085433-i1c1klyb\",\"JobId\":\"309207456061125\",\"RunName\":\"dev d46cd08f_cbea_4b56_81b9_e2e36ed96e37 dab_e2e_job\"},\"termination_reason\":{\"code\":\"JOB_FINISHED\",\"type\":\"SUCCESS\"},\"init_scripts_safe_mode\":false},{\"cluster_id\":\"0514-170712-t5chponb\",\"creator_user_name\":\"d46cd08f-cbea-4b56-81b9-e2e36ed96e37\",\"spark_context_id\":1437632626379400122,\"driver_healthy\":true,\"cluster_name\":\"job-4557136220987-run-1088926536406070-job_cluster\",\"spark_version\":\"13.3.x-scala2.12\",\"aws_attributes\":{\"first_on_demand\":0,\"availability\":\"SPOT_WITH_FALLBACK\",\"zone_id\":\"us-east-1a\",\"spot_bid_price_percent\":100},\"node_type_id\":\"i3.xlarge\",\"driver_node_type_id\":\"i3.xlarge\",\"custom_tags\":{\"dev\":\"d46cd08f_cbea_4b56_81b9_e2e36ed96e37\"},\"autotermination_minutes\":0,\"enable_elastic_disk\":false,\"disk_spec\":{},\"cluster_source\":\"JOB\",\"single_user_name\":\"d46cd08f-cbea-4b56-81b9-e2e36ed96e37\",\"enable_local_disk_encryption\":false,\"instance_source\":{\"node_type_id\":\"i3.xlarge\"},\"driver_instance_source\":{\"node_type_id\":\"i3.xlarge\"},\"data_security_mode\":\"SINGLE_USER\",\"effective_spark_version\":\"13.3.x-scala2.12\",\"state\":\"TERMINATED\",\"state_message\":\"\",\"start_time\":1715706432834,\"terminated_time\":1715706772112,\"last_state_loss_time\":0,\"last_activity_time\":1715706667531,\"last_restarted_time\":1715706727421,\"autoscale\":{\"min_workers\":1,\"max_workers\":2,\"target_workers\":1},\"default_tags\":{\"Vendor\":\"Databricks\",\"Creator\":\"d46cd08f-cbea-4b56-81b9-e2e36ed96e37\",\"ClusterName\":\"job-4557136220987-run-1088926536406070-job_cluster\",\"ClusterId\":\"0514-170712-t5chponb\",\"JobId\":\"4557136220987\",\"RunName\":\"dev d46cd08f_cbea_4b56_81b9_e2e36ed96e37 dab_e2e_job\"},\"termination_reason\":{\"code\":\"JOB_FINISHED\",\"type\":\"SUCCESS\"},\"init_scripts_safe_mode\":false},{\"cluster_id\":\"0514-171502-bftt5bho\",\"creator_user_name\":\"d46cd08f-cbea-4b56-81b9-e2e36ed96e37\",\"spark_context_id\":4348304296014407429,\"driver_healthy\":true,\"cluster_name\":\"job-4557136220987-run-244889808577250-job_cluster\",\"spark_version\":\"13.3.x-scala2.12\",\"aws_attributes\":{\"first_on_demand\":0,\"availability\":\"SPOT_WITH_FALLBACK\",\"zone_id\":\"us-east-1a\",\"spot_bid_price_percent\":100},\"node_type_id\":\"i3.xlarge\",\"driver_node_type_id\":\"i3.xlarge\",\"custom_tags\":{\"dev\":\"d46cd08f_cbea_4b56_81b9_e2e36ed96e37\"},\"autotermination_minutes\":0,\"enable_elastic_disk\":false,\"disk_spec\":{},\"cluster_source\":\"JOB\",\"single_user_name\":\"d46cd08f-cbea-4b56-81b9-e2e36ed96e37\",\"enable_local_disk_encryption\":false,\"instance_source\":{\"node_type_id\":\"i3.xlarge\"},\"driver_instance_source\":{\"node_type_id\":\"i3.xlarge\"},\"data_security_mode\":\"SINGLE_USER\",\"effective_spark_version\":\"13.3.x-scala2.12\",\"state\":\"TERMINATED\",\"state_message\":\"\",\"start_time\":1715706902741,\"terminated_time\":1715707038421,\"last_state_loss_time\":0,\"last_activity_time\":1715706939911,\"last_restarted_time\":1715706993094,\"autoscale\":{\"min_workers\":1,\"max_workers\":2,\"target_workers\":1},\"default_tags\":{\"Vendor\":\"Databricks\",\"Creator\":\"d46cd08f-cbea-4b56-81b9-e2e36ed96e37\",\"ClusterName\":\"job-4557136220987-run-244889808577250-job_cluster\",\"ClusterId\":\"0514-171502-bftt5bho\",\"JobId\":\"4557136220987\",\"RunName\":\"dev d46cd08f_cbea_4b56_81b9_e2e36ed96e37 dab_e2e_job\"},\"termination_reason\":{\"code\":\"JOB_FINISHED\",\"type\":\"SUCCESS\"},\"init_scripts_safe_mode\":false},{\"cluster_id\":\"0514-172140-v1les2f7\",\"creator_user_name\":\"d46cd08f-cbea-4b56-81b9-e2e36ed96e37\",\"spark_context_id\":7826998543565327203,\"driver_healthy\":true,\"cluster_name\":\"job-4557136220987-run-278228213720899-job_cluster\",\"spark_version\":\"13.3.x-scala2.12\",\"aws_attributes\":{\"first_on_demand\":0,\"availability\":\"SPOT_WITH_FALLBACK\",\"zone_id\":\"us-east-1a\",\"spot_bid_price_percent\":100},\"node_type_id\":\"i3.xlarge\",\"driver_node_type_id\":\"i3.xlarge\",\"custom_tags\":{\"dev\":\"d46cd08f_cbea_4b56_81b9_e2e36ed96e37\"},\"autotermination_minutes\":0,\"enable_elastic_disk\":false,\"disk_spec\":{},\"cluster_source\":\"JOB\",\"single_user_name\":\"d46cd08f-cbea-4b56-81b9-e2e36ed96e37\",\"enable_local_disk_encryption\":false,\"instance_source\":{\"node_type_id\":\"i3.xlarge\"},\"driver_instance_source\":{\"node_type_id\":\"i3.xlarge\"},\"data_security_mode\":\"SINGLE_USER\",\"effective_spark_version\":\"13.3.x-scala2.12\",\"state\":\"TERMINATED\",\"state_message\":\"\",\"start_time\":1715707300200,\"terminated_time\":1715707438613,\"last_state_loss_time\":0,\"last_activity_time\":1715707338642,\"last_restarted_time\":1715707398689,\"autoscale\":{\"min_workers\":1,\"max_workers\":2,\"target_workers\":1},\"default_tags\":{\"Vendor\":\"Databricks\",\"Creator\":\"d46cd08f-cbea-4b56-81b9-e2e36ed96e37\",\"ClusterName\":\"job-4557136220987-run-278228213720899-job_cluster\",\"ClusterId\":\"0514-172140-v1les2f7\",\"JobId\":\"4557136220987\",\"RunName\":\"dev d46cd08f_cbea_4b56_81b9_e2e36ed96e37 dab_e2e_job\"},\"termination_reason\":{\"code\":\"JOB_FINISHED\",\"type\":\"SUCCESS\"},\"init_scripts_safe_mode\":false},{\"cluster_id\":\"0514-172559-gc7t0nx5\",\"creator_user_name\":\"d46cd08f-cbea-4b56-81b9-e2e36ed96e37\",\"spark_context_id\":7640371243845698076,\"driver_healthy\":true,\"cluster_name\":\"job-4557136220987-run-283711128059674-job_cluster\",\"spark_version\":\"13.3.x-scala2.12\",\"aws_attributes\":{\"first_on_demand\":0,\"availability\":\"SPOT_WITH_FALLBACK\",\"zone_id\":\"us-east-1a\",\"spot_bid_price_percent\":100},\"node_type_id\":\"i3.xlarge\",\"driver_node_type_id\":\"i3.xlarge\",\"custom_tags\":{\"dev\":\"d46cd08f_cbea_4b56_81b9_e2e36ed96e37\"},\"autotermination_minutes\":0,\"enable_elastic_disk\":false,\"disk_spec\":{},\"cluster_source\":\"JOB\",\"single_user_name\":\"d46cd08f-cbea-4b56-81b9-e2e36ed96e37\",\"enable_local_disk_encryption\":false,\"instance_source\":{\"node_type_id\":\"i3.xlarge\"},\"driver_instance_source\":{\"node_type_id\":\"i3.xlarge\"},\"data_security_mode\":\"SINGLE_USER\",\"effective_spark_version\":\"13.3.x-scala2.12\",\"state\":\"TERMINATED\",\"state_message\":\"Finding instances for new nodes, acquiring more instances if necessary\",\"start_time\":1715707559462,\"terminated_time\":1715707826057,\"last_state_loss_time\":0,\"last_activity_time\":1715707717388,\"last_restarted_time\":1715707650806,\"autoscale\":{\"min_workers\":1,\"max_workers\":2,\"target_workers\":2},\"default_tags\":{\"Vendor\":\"Databricks\",\"Creator\":\"d46cd08f-cbea-4b56-81b9-e2e36ed96e37\",\"ClusterName\":\"job-4557136220987-run-283711128059674-job_cluster\",\"ClusterId\":\"0514-172559-gc7t0nx5\",\"JobId\":\"4557136220987\",\"RunName\":\"dev d46cd08f_cbea_4b56_81b9_e2e36ed96e37 dab_e2e_job\"},\"termination_reason\":{\"code\":\"JOB_FINISHED\",\"type\":\"SUCCESS\"},\"init_scripts_safe_mode\":false},{\"cluster_id\":\"0515-174342-cgcrcldt\",\"creator_user_name\":\"d46cd08f-cbea-4b56-81b9-e2e36ed96e37\",\"spark_context_id\":8659225401342268607,\"driver_healthy\":true,\"cluster_name\":\"job-4557136220987-run-514846971666180-job_cluster\",\"spark_version\":\"13.3.x-scala2.12\",\"aws_attributes\":{\"first_on_demand\":0,\"availability\":\"SPOT_WITH_FALLBACK\",\"zone_id\":\"us-east-1a\",\"spot_bid_price_percent\":100},\"node_type_id\":\"i3.xlarge\",\"driver_node_type_id\":\"i3.xlarge\",\"custom_tags\":{\"dev\":\"d46cd08f_cbea_4b56_81b9_e2e36ed96e37\"},\"autotermination_minutes\":0,\"enable_elastic_disk\":false,\"disk_spec\":{},\"cluster_source\":\"JOB\",\"single_user_name\":\"d46cd08f-cbea-4b56-81b9-e2e36ed96e37\",\"enable_local_disk_encryption\":false,\"instance_source\":{\"node_type_id\":\"i3.xlarge\"},\"driver_instance_source\":{\"node_type_id\":\"i3.xlarge\"},\"data_security_mode\":\"SINGLE_USER\",\"effective_spark_version\":\"13.3.x-scala2.12\",\"state\":\"TERMINATED\",\"state_message\":\"Finding instances for new nodes, acquiring more instances if necessary\",\"start_time\":1715795022966,\"terminated_time\":1715795462317,\"last_state_loss_time\":0,\"last_activity_time\":1715795380098,\"last_restarted_time\":1715795321774,\"autoscale\":{\"min_workers\":1,\"max_workers\":2,\"target_workers\":2},\"default_tags\":{\"Vendor\":\"Databricks\",\"Creator\":\"d46cd08f-cbea-4b56-81b9-e2e36ed96e37\",\"ClusterName\":\"job-4557136220987-run-514846971666180-job_cluster\",\"ClusterId\":\"0515-174342-cgcrcldt\",\"JobId\":\"4557136220987\",\"RunName\":\"dev d46cd08f_cbea_4b56_81b9_e2e36ed96e37 dab_e2e_job\"},\"termination_reason\":{\"code\":\"JOB_FINISHED\",\"type\":\"SUCCESS\"},\"init_scripts_safe_mode\":false},{\"cluster_id\":\"0518-143438-z2hdlbmh\",\"creator_user_name\":\"d46cd08f-cbea-4b56-81b9-e2e36ed96e37\",\"spark_context_id\":4147449204347336876,\"driver_healthy\":true,\"cluster_name\":\"job-499903876037735-run-227358681460821-job_cluster\",\"spark_version\":\"13.3.x-scala2.12\",\"aws_attributes\":{\"first_on_demand\":0,\"availability\":\"SPOT_WITH_FALLBACK\",\"zone_id\":\"us-east-1a\",\"spot_bid_price_percent\":100},\"node_type_id\":\"i3.xlarge\",\"driver_node_type_id\":\"i3.xlarge\",\"custom_tags\":{\"dev\":\"d46cd08f_cbea_4b56_81b9_e2e36ed96e37\"},\"autotermination_minutes\":0,\"enable_elastic_disk\":false,\"disk_spec\":{},\"cluster_source\":\"JOB\",\"single_user_name\":\"d46cd08f-cbea-4b56-81b9-e2e36ed96e37\",\"enable_local_disk_encryption\":false,\"instance_source\":{\"node_type_id\":\"i3.xlarge\"},\"driver_instance_source\":{\"node_type_id\":\"i3.xlarge\"},\"data_security_mode\":\"SINGLE_USER\",\"effective_spark_version\":\"13.3.x-scala2.12\",\"state\":\"TERMINATED\",\"state_message\":\"Finding instances for new nodes, acquiring more instances if necessary\",\"start_time\":1716042878095,\"terminated_time\":1716043316198,\"last_state_loss_time\":0,\"last_activity_time\":1716043240247,\"last_restarted_time\":1716043152384,\"autoscale\":{\"min_workers\":1,\"max_workers\":4,\"target_workers\":3},\"default_tags\":{\"Vendor\":\"Databricks\",\"Creator\":\"d46cd08f-cbea-4b56-81b9-e2e36ed96e37\",\"ClusterName\":\"job-499903876037735-run-227358681460821-job_cluster\",\"ClusterId\":\"0518-143438-z2hdlbmh\",\"JobId\":\"499903876037735\",\"RunName\":\"dev d46cd08f_cbea_4b56_81b9_e2e36ed96e37 project1_job\"},\"termination_reason\":{\"code\":\"JOB_FINISHED\",\"type\":\"SUCCESS\"},\"init_scripts_safe_mode\":false},{\"cluster_id\":\"0520-143907-yk8j7ubh\",\"creator_user_name\":\"d46cd08f-cbea-4b56-81b9-e2e36ed96e37\",\"spark_context_id\":1415352491097573274,\"driver_healthy\":true,\"cluster_name\":\"job-94993710298082-run-459008010127563-job_cluster\",\"spark_version\":\"13.3.x-scala2.12\",\"aws_attributes\":{\"first_on_demand\":0,\"availability\":\"SPOT_WITH_FALLBACK\",\"zone_id\":\"us-east-1a\",\"spot_bid_price_percent\":100},\"node_type_id\":\"i3.xlarge\",\"driver_node_type_id\":\"i3.xlarge\",\"custom_tags\":{\"dev\":\"d46cd08f_cbea_4b56_81b9_e2e36ed96e37\"},\"autotermination_minutes\":0,\"enable_elastic_disk\":false,\"disk_spec\":{},\"cluster_source\":\"JOB\",\"single_user_name\":\"d46cd08f-cbea-4b56-81b9-e2e36ed96e37\",\"enable_local_disk_encryption\":false,\"instance_source\":{\"node_type_id\":\"i3.xlarge\"},\"driver_instance_source\":{\"node_type_id\":\"i3.xlarge\"},\"data_security_mode\":\"SINGLE_USER\",\"effective_spark_version\":\"13.3.x-scala2.12\",\"state\":\"TERMINATED\",\"state_message\":\"\",\"start_time\":1716215947805,\"terminated_time\":1716216286024,\"last_state_loss_time\":0,\"last_activity_time\":1716216277070,\"last_restarted_time\":1716216243101,\"autoscale\":{\"min_workers\":1,\"max_workers\":2,\"target_workers\":1},\"default_tags\":{\"Vendor\":\"Databricks\",\"Creator\":\"d46cd08f-cbea-4b56-81b9-e2e36ed96e37\",\"ClusterName\":\"job-94993710298082-run-459008010127563-job_cluster\",\"ClusterId\":\"0520-143907-yk8j7ubh\",\"JobId\":\"94993710298082\",\"RunName\":\"dev d46cd08f_cbea_4b56_81b9_e2e36ed96e37 dab_automation_new_workspace_creation_job\"},\"termination_reason\":{\"code\":\"JOB_FINISHED\",\"type\":\"SUCCESS\"},\"init_scripts_safe_mode\":false},{\"cluster_id\":\"0513-170756-azkcyvq\",\"creator_user_name\":\"dev.mousumi.ghanti@gmail.com\",\"spark_context_id\":7208855676269887557,\"driver_healthy\":true,\"cluster_name\":\"Mousumi Ghanti's Cluster\",\"spark_version\":\"13.3.x-scala2.12\",\"spark_conf\":{\"spark.master\":\"local[*, 4]\",\"spark.databricks.cluster.profile\":\"singleNode\"},\"aws_attributes\":{\"first_on_demand\":1,\"availability\":\"SPOT_WITH_FALLBACK\",\"zone_id\":\"auto\",\"spot_bid_price_percent\":100,\"ebs_volume_count\":0},\"node_type_id\":\"i3.xlarge\",\"driver_node_type_id\":\"i3.xlarge\",\"custom_tags\":{\"ResourceClass\":\"SingleNode\"},\"spark_env_vars\":{\"PYSPARK_PYTHON\":\"/databricks/python3/bin/python3\"},\"autotermination_minutes\":30,\"enable_elastic_disk\":true,\"disk_spec\":{\"disk_count\":0},\"cluster_source\":\"UI\",\"single_user_name\":\"dev.mousumi.ghanti@gmail.com\",\"enable_local_disk_encryption\":false,\"instance_source\":{\"node_type_id\":\"i3.xlarge\"},\"driver_instance_source\":{\"node_type_id\":\"i3.xlarge\"},\"data_security_mode\":\"SINGLE_USER\",\"runtime_engine\":\"PHOTON\",\"effective_spark_version\":\"13.3.x-photon-scala2.12\",\"state\":\"TERMINATED\",\"state_message\":\"Inactive cluster terminated (inactive for 30 minutes).\",\"start_time\":1715620076973,\"terminated_time\":1716309218326,\"last_state_loss_time\":1716307447015,\"last_activity_time\":1716307388312,\"last_restarted_time\":1716307447067,\"num_workers\":0,\"default_tags\":{\"Vendor\":\"Databricks\",\"Creator\":\"dev.mousumi.ghanti@gmail.com\",\"ClusterName\":\"Mousumi Ghanti's Cluster\",\"ClusterId\":\"0513-170756-azkcyvq\"},\"termination_reason\":{\"code\":\"INACTIVITY\",\"type\":\"SUCCESS\",\"parameters\":{\"inactivity_duration_min\":\"30\"}},\"init_scripts_safe_mode\":false}]}\n"
     ]
    }
   ],
   "source": [
    "if token:\n",
    "    cluster_list = utility.getClusterList(token)\n",
    "    print(cluster_list)"
   ]
  }
 ],
 "metadata": {
  "application/vnd.databricks.v1+notebook": {
   "dashboards": [],
   "environmentMetadata": null,
   "language": "python",
   "notebookMetadata": {
    "pythonIndentUnit": 4
   },
   "notebookName": "workspace_level_cluster_management",
   "widgets": {}
  }
 },
 "nbformat": 4,
 "nbformat_minor": 0
}
